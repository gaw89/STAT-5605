{
 "cells": [
  {
   "cell_type": "markdown",
   "metadata": {},
   "source": [
    "# Case 3: The Gentle Lentil Restaurant\n",
    "## STAT 5605: Decision Models\n",
    "\n",
    "### Introduction\n",
    "\n",
    "In this tutorial, we will use following case from the book *Data, Models, and Decision: the Fundamentals of Management Science* by Bertsimas and Freund to understand the basic concepts of Monte Carl Simulation.  In the case, we are presented with the story of Sanjay Thomas, a second-year MBA student at MIT's Sloan School of Management.  He is in the midst of a dilemma of having to choose between a job offer with a top management consulting firm and the possibility of opening his own restaurant - something he has always wanted to do.  After much consideration, Sanjay determines that the lifestyle tradeoffs between the two options are comparable, and the decision will ultimately come down to whichever provides the better income.\n",
    "\n",
    "The offer from the management consulting firm is straightforward, `$`80,000 for the first year with the firm.  Sanjay finds that the earnings potential of opening his own restaurant, however, is much more complicated.  Sanjay has put a lot of thought and study into the revenue potential of a restaurant like the one he is considering, but due to the many factors involved, it is impossible to simply calculate the expected revenue/profit.  To get a good understanding of the plausible income from this venture, Sanjay must turn to simulation methods so that he can combine the various distributions of cost and revenue to determine a feasible range for the income of his restaurant concept.  \n",
    "  \n",
    "### Solving Sanjay's Dilemma \n",
    "\n",
    "According to [Wikipedia](https://en.wikipedia.org/wiki/Monte_Carlo_method):\n",
    ">**Monte Carlo methods** (or **Monte Carlo experiments**) are a broad class of computational algorithms that rely on repeated random sampling to obtain numerical results. ... Monte Carlo methods are mainly used in three distinct problem classes:<sup id=\"cite_ref-1\" class=\"reference\"><a href=\"#cite_note-1\">[1]</a></sup> <a href=\"/wiki/Optimization\" class=\"mw-redirect\" title=\"Optimization\">optimization</a>, <a href=\"/wiki/Numerical_integration\" title=\"Numerical integration\">numerical integration</a>, and generating draws from a <a href=\"/wiki/Probability_distribution\" title=\"Probability distribution\">probability distribution</a>. \n",
    "\n",
    "In this case, the problem class that we're primarily interested in is generating draws from a probability distribution.  We will use Monte Carlo methods, implemented in Python, to answer the questions from the book.  Along the way, we'll learn how to code these techniques in Python.  As we will see, Monte Carlo is an extremely powerful (and surprisingly simple) simulation method that can help us to make well-informed decisions in the midst of great uncertainty.\n",
    "\n",
    "Before we dive into the code, let's talk about the problem as it's described in the book.  From the case, we know that Sanjay's goal is to determine whether he'll make more money by a) accepting the job offer from the consulting firm (`$`80,000 in the first year) or b) opening his own restaurant, The Gentle Lentil, in Boston's Harvard Square.  To compare the two options, we need to determine the profit Sanjay can reasonably expect from the first year in business at The Gentle Lentil.  We know formuola for profit is simply $profit = revenue - expenses$.  The problem is that number of sales, sales price, and labor costs of the restaurant are all variable and have different associated distributions.  Fortunately, Sanjay has done a lot of research and is able to provide us with the appropriate distribution for each variable.  \n",
    "\n",
    "Knowing these distributions, we can use Monte Carlo to create a confidence interval around Sanjay's expected profit for the first year which we can then compare to the offer of `$`80,000 he has received from the consulting firm.  The general process of a Monte Carlo simulation in this situation is:\n",
    "\n",
    "\n",
    "1. Sample from each distribution\n",
    "2. Combine the samples with the profit formula\n",
    "3. Repeat steps 1 & 2 twelve times (12 months in a year)\n",
    "4. Sum across all months to determine the profit for that year\n",
    "\n",
    "We can perform the above process many times to get the shape of the distribution for Sanjay's expected profit in the first year of business.  It's important to note, however, that the distribution obtained from our simulation may still be hard to compare with the consulting firm's offer, but, as we'll see, there are other statistical techniques that we can use to help us compare more easily between the two options.  \n",
    "\n",
    "### By the Numbers\n",
    "\n",
    "The key to setting up our model is understanding the distributions surrounding our variables and how to sample from them.  As we've already seen, Sanjay has determined that the most important variables are:\n",
    "\n",
    "**- The number of meals sold per month**\n",
    "\n",
    "We are told that the number of meals sold per month can be given as a Normal distribution with a mean of 3,000 and a standard deviation of 1,000.  \n",
    "\n",
    "**- Revenue per meal**\n",
    "\n",
    "Sanjay has also determined that he will offer a prix fixe menu and that the price would be set on his estimate of the local economy.  Here is the table describing this distribution:\n",
    "\n",
    "|Scenario|Prix Fixe Meal Price|Probability|\n",
    "|--------|--------------------|-----------|\n",
    "|Very healthy market| `$`20.00| 25% |\n",
    "|Healthy market| `$`18.50| 35% |\n",
    "|Not so healthy market| `$`16.50| 30% |\n",
    "|Unhealthy market| `$`15.00| 10% |\n",
    "\n",
    "**- Labor costs of the restaurant**\n",
    "\n",
    "Sanjay has estimated the labor cost of the restaurant to be between `$`5,040 and `$`6,860 per month.  He has assumed that the actual cost of labor will form a uniform distribution within this range.\n",
    "\n",
    "Additionally, Sanjay has determined that there will be a variable cost of `$`11 per meal served.  There is also a fixed operating cost (rent, equipment lease, etc.) of `$`3,995 per month.\n",
    "\n",
    "Using all of this information, we can rewrite our profit formula for each month as:\n",
    "\n",
    "$$ profit = (N(3000, 1000) * F(p)) - (3995 + U(5040, 6860) + (N * 11)) $$\n",
    "\n",
    "Where $N(3000, 1000)$ is a normal distribution with mean of 3,000 and standard devation of 1000 (the number of meals sold in a month), $F(p)$ is a selection from the probability table above (the price of each meal), $U(5040, 6860)$ is a selection from a uniform distribution with the given range (labor cost per month) and $N * 11$ represents the variable cost associated with the number of meals sold in the month.\n",
    "\n",
    "Now that we've sorted out our variables, let's see how to draw samples from each of them, using Python and Numpy,  to arrive at our profit for each month.  Thanks to the power of Numpy`*` simulating the number of meals sold per month and labor costs are rather trivial.\n",
    "\n",
    "`*`All of these functions can be performed with the Python's standard library *random*, but we're going to use some other functionality of Numpy later on to speed up our simulation."
   ]
  },
  {
   "cell_type": "code",
   "execution_count": 5,
   "metadata": {
    "collapsed": true
   },
   "outputs": [],
   "source": [
    "# Library Imports\n",
    "import numpy as np\n",
    "\n",
    "# Number of Meals Sold per Month\n",
    "def num_meals_sold(N=1):\n",
    "    \"\"\"\n",
    "    Obtain a random sample from a normal distribution with mean 3000 and standard deviation 1000. \n",
    "    This represents the number of meals sold in a month.\n",
    "    \n",
    "    N = number of months to sample\n",
    "    \"\"\"\n",
    "    \n",
    "    return np.random.normal(3000, 1000, N)\n",
    "\n",
    "# Labor Cost per Month\n",
    "def labor_cost(N=1):\n",
    "    \"\"\"\n",
    "    Obtain a random sample from a uniform distribution in the range (5040, 6860), representing \n",
    "    labor cost per month\n",
    "    \n",
    "    N = number of months to sample\n",
    "    \"\"\"\n",
    "    \n",
    "    return np.random.uniform(5040, 6860, N)\n"
   ]
  },
  {
   "cell_type": "markdown",
   "metadata": {},
   "source": [
    "Above, we used some convenience functions from Numpy to sample from normal and uniform distributions which makes the process generating samples of meals sold and labor cost rather trivial.  However, there is no convenience function that allows us to sample from a discrete distribution (so far as I am aware), so this makes the process of sampling the price of each meal in a month somewhat more complicated.  Thankfully, the standard uniform distribution (0, 1) has some unique properties we can use to recreate the discrete probability distribution of meal price from above.\n",
    "\n",
    "In order to recreate this distribution, we will turn to the definition of a uniform distribution.  According to [Wikipedia](https://en.wikipedia.org/wiki/Uniform_distribution_(continuous%29):\n",
    "\n",
    "> In <a href=\"/wiki/Probability_theory\" title=\"Probability theory\">probability theory</a> and <a href=\"/wiki/Statistics\" title=\"Statistics\">statistics</a>, the <b>continuous uniform distribution</b> or <b>rectangular distribution</b> is a family of <a href=\"/wiki/Symmetric_distribution\" class=\"mw-redirect\" title=\"Symmetric distribution\">symmetric</a> <a href=\"/wiki/Probability_distributions\" class=\"mw-redirect\" title=\"Probability distributions\">probability distributions</a> such that for each member of the family, all <a href=\"/wiki/Interval_(mathematics)\" title=\"Interval (mathematics)\">intervals</a> of the same length on the distribution's support are equally probable. \n",
    "\n",
    "For our purposes, the important part of this definition is the last clause \"all intervals of the **same length** on the distribution's support are equally probable\".  What this tells us is that, given a uniform distribution of the range (0, 1) - the same as a probability distribution, we can recreate any discrete probabilities by simply changing the width of the intervals in our sampling.  \n",
    "\n",
    "Let's look at an example.  Here we'll use the uniform distribution to alter the probability of getting 1."
   ]
  },
  {
   "cell_type": "code",
   "execution_count": 6,
   "metadata": {},
   "outputs": [
    {
     "name": "stdout",
     "output_type": "stream",
     "text": [
      "Mean: 0.4955\n"
     ]
    }
   ],
   "source": [
    "# Generate samples from a random uniform distribution.  For any values over .5, return 1.  For all other values return 0.\n",
    "# The mean of our samples will be ~.5.\n",
    "samples = np.array([1 if x > .5 else 0 for x in np.random.uniform(0, 1, 10000)])\n",
    "\n",
    "print \"Mean:\", samples.mean()"
   ]
  },
  {
   "cell_type": "code",
   "execution_count": 7,
   "metadata": {},
   "outputs": [
    {
     "name": "stdout",
     "output_type": "stream",
     "text": [
      "Mean: 0.2517\n"
     ]
    }
   ],
   "source": [
    "# Generate samples from a random uniform distribution making any value over .75 equal 1 and all others equal 0.  This will give\n",
    "# us a mean of ~.25.\n",
    "samples = np.array([1 if x > .75 else 0 for x in np.random.uniform(0, 1, 10000)])\n",
    "\n",
    "print \"Mean:\", samples.mean()"
   ]
  },
  {
   "cell_type": "markdown",
   "metadata": {},
   "source": [
    "In the examples above, we see that by changing the length of the interval in which we return a 1, we can change the probability of getting a 1 (and therefore alter the mean of the sample).  So, expanding this concept, we can recreate the discrete distribution from above by setting 4 intervals with widths of .25, .35, .30, and .1."
   ]
  },
  {
   "cell_type": "code",
   "execution_count": 8,
   "metadata": {},
   "outputs": [],
   "source": [
    "# Generate samples from the discrete distributoin for meal price\n",
    "def get_meal_price(N):\n",
    "    \"\"\"\n",
    "    Obtain random samples from the give discrete distribution for meal price.\n",
    "    N = number of sample months\n",
    "    \"\"\"\n",
    "    \n",
    "    # We must use the cumulative probabilities to create the appropriate intervals\n",
    "    probs = [0, .25, .6, .9, 1]\n",
    "    prices = [20., 18.5, 16.5, 15.]\n",
    "    \n",
    "    # Return N samples from the random uniform distribution (0, 1)\n",
    "    samples = np.random.random(N)\n",
    "    \n",
    "    # Store the price samples here\n",
    "    price_per_month = []\n",
    "    \n",
    "    # For each number in samples, we simply check which probability in the probs list it lies between,\n",
    "    # then we take the index of the lower probability and use that to get the price from the prices list.\n",
    "    for prob in samples:\n",
    "        for i in range(0, len(probs) - 1):\n",
    "            if probs[i] <= prob < probs[i+1]:  # e.g. if prob = .3, then it is between .25 and .6.  The index of .25 is\n",
    "                                               # 1, so we take element 1 from the prices list which is the price associated\n",
    "                                               # with the probability of .35 (the distance between .25 and .6)\n",
    "                price = prices[i]\n",
    "                price_per_month.append(price)\n",
    "                \n",
    "    return np.array(price_per_month)"
   ]
  },
  {
   "cell_type": "markdown",
   "metadata": {},
   "source": [
    "If we've written this last function correctly, then we should find that, the result of get_meal_price(N) has roughly 25% of its elements = 20, 35% equal to 18.5, 30% equal to 16.5, and 10% equal to 15.  Let's perform a quick sanity check to make sure this is the case."
   ]
  },
  {
   "cell_type": "code",
   "execution_count": 9,
   "metadata": {},
   "outputs": [
    {
     "name": "stdout",
     "output_type": "stream",
     "text": [
      "25.1 percent of samples = 20, should be roughly 25%\n",
      "35.1 percent of samples = 18.5, should be roughly 35%\n",
      "29.8 percent of samples = 16.5, should be roughly 30%\n",
      "9.9 percent of samples = 15, should be roughly 10%\n"
     ]
    }
   ],
   "source": [
    "# Sanity check\n",
    "N = 100000\n",
    "\n",
    "prices = get_meal_price(N)\n",
    "\n",
    "print round((np.where(prices == 20)[0].shape[0] / float(N) * 100), 1), 'percent of samples = 20, should be roughly 25%'\n",
    "print round((np.where(prices == 18.5)[0].shape[0] / float(N) * 100), 1), 'percent of samples = 18.5, should be roughly 35%'\n",
    "print round((np.where(prices == 16.5)[0].shape[0] / float(N) * 100), 1), 'percent of samples = 16.5, should be roughly 30%'\n",
    "print round((np.where(prices == 15)[0].shape[0] / float(N) * 100), 1), 'percent of samples = 15, should be roughly 10%'"
   ]
  },
  {
   "cell_type": "markdown",
   "metadata": {},
   "source": [
    "Thankfully, that all looks good.  Now we're ready to start the process of simulating monthly income.  First, let's write out our formula for monthly profit as a Python function.  Then we can simply generate samples for however many months we'd like to simulate and plug them into our profit function."
   ]
  },
  {
   "cell_type": "code",
   "execution_count": 24,
   "metadata": {},
   "outputs": [],
   "source": [
    "def profit(meals_sold, labor_cost, meal_price):\n",
    "    \n",
    "    variable_cost_per_meal = 11\n",
    "    fixed_cost = 3995\n",
    "    \n",
    "    # Total revenue for the month\n",
    "    revenue = meals_sold * meal_price\n",
    "    \n",
    "    total_variable_cost = variable_cost_per_meal * meals_sold\n",
    "    \n",
    "    # Total cost of operations for the month\n",
    "    cost = labor_cost + fixed_cost + total_variable_cost\n",
    "    \n",
    "    profit = revenue - cost\n",
    "    \n",
    "    return profit"
   ]
  },
  {
   "cell_type": "markdown",
   "metadata": {},
   "source": [
    "That was simple enough.  Now, let's use our functions above to generate the profit for 12 months."
   ]
  },
  {
   "cell_type": "code",
   "execution_count": 28,
   "metadata": {},
   "outputs": [
    {
     "name": "stdout",
     "output_type": "stream",
     "text": [
      "Sanjay's expected profit for one year: 1088394558.35\n"
     ]
    }
   ],
   "source": [
    "# set the random seed so we always get the same result\n",
    "np.random.seed(1)\n",
    "num_months = 12\n",
    "\n",
    "meals_sold = num_meals_sold(num_months)\n",
    "monthly_meal_price = get_meal_price(num_months)\n",
    "monthly_labor = labor_cost(num_months)\n",
    "\n",
    "annual_profit = 0\n",
    "for i in range(num_months):\n",
    "    sold = meals_sold[i]\n",
    "    price = monthly_meal_price[i]\n",
    "    labor = monthly_labor[i]\n",
    "    \n",
    "    annual_profit += profit(sold, labor, price)\n",
    "    \n",
    "print \"Sanjay's expected profit for one year: %.2f\" % annual_profit"
   ]
  },
  {
   "cell_type": "markdown",
   "metadata": {},
   "source": [
    "There we have it.  Clearly, Sanjay should open The Gentle Lentil and forget about the offer from the consulting firm since he'll make over `$`50K more from the restaurant venture.\n",
    "\n",
    "Not so fast, this is only one possible outcome.  Amongst the vast range of possiblities, there is the potential that Sanjay could make significantly **less** than the offer from the consulting company.  If you change the value in the line `np.random.seed(123)` above to 8453, you'll see Sanjay would make almost `$`50,000 less than at the alternative offer. In fact, it's possible that he could even take a loss on The Gentle Lentil.\n",
    "\n",
    "As we've mentioned above, in order to make a reasonable comparison between the options, we need to get an idea of the *distribution* of expected profit from The Gentle Lentil.  To do this, we'll extrapolate the code above into a function so that we can run the 12-month simulation many times.  From there, we can look at the distribution of the 12-month simulations and hopefully compare more intelligently between the two options."
   ]
  },
  {
   "cell_type": "code",
   "execution_count": 33,
   "metadata": {
    "collapsed": true
   },
   "outputs": [],
   "source": [
    "def twelve_sample_months(N):\n",
    "    \"\"\"\n",
    "    Get N samples of size 12 of monthly profit for The Gentle Lentil\n",
    "    \"\"\"\n",
    "    profits = []\n",
    "    for x in range(N):\n",
    "        num_months = 12\n",
    "\n",
    "        meals_sold = num_meals_sold(num_months)\n",
    "        monthly_meal_price = get_meal_price(num_months)\n",
    "        monthly_labor = labor_cost(num_months)\n",
    "\n",
    "        annual_profit = 0\n",
    "        for i in range(num_months):\n",
    "            sold = meals_sold[i]\n",
    "            price = monthly_meal_price[i]\n",
    "            labor = monthly_labor[i]\n",
    "\n",
    "            annual_profit += profit(sold, labor, price)\n",
    "        \n",
    "        profits.append(annual_profit)\n",
    "        \n",
    "    return np.array(profits)\n",
    "\n",
    "# Now, we'll use this function to get expected profit from 10,000 sample years and graph the distribution.\n",
    "num_samples = 100000\n",
    "samples = twelve_sample_months(num_samples)"
   ]
  },
  {
   "cell_type": "code",
   "execution_count": 34,
   "metadata": {},
   "outputs": [
    {
     "name": "stdout",
     "output_type": "stream",
     "text": [
      "Mean: 129832.11\n",
      "Standard Deviation: 29979.28\n",
      "Kurtosis: -0.00\n"
     ]
    },
    {
     "data": {
      "image/png": "[encoded data removed]",
      "text/plain": [
       "<matplotlib.figure.Figure at 0xa44e978>"
      ]
     },
     "metadata": {},
     "output_type": "display_data"
    }
   ],
   "source": [
    "# Let's see what the distribution looks like\n",
    "import matplotlib.pyplot as plt\n",
    "from scipy.stats import kurtosis\n",
    "%matplotlib inline\n",
    "\n",
    "hist = plt.hist(samples, 50, facecolor='green', alpha=0.75)\n",
    "mean = samples.mean()\n",
    "std = samples.std()\n",
    "print \"Mean: %.2f\" % mean\n",
    "print \"Standard Deviation: %.2f\" % std\n",
    "\n",
    "# Kurtosis measures the tails of a distribution.  A normal distribution will have a Kurtosis of 0.\n",
    "print \"Kurtosis: %.2f\" % abs(kurtosis(samples))"
   ]
  },
  {
   "cell_type": "markdown",
   "metadata": {},
   "source": [
    "Now, we can see that the distribution is approximately normal with a mean of ~`$`130K and a standard deviation of ~`$`30K.  Since the distribution is roughly normal, we can use properties from the normal distribution to provide Sanjay with some useful probability calculations.  Let's find out the probability of making more than `$`80,000."
   ]
  },
  {
   "cell_type": "code",
   "execution_count": 20,
   "metadata": {},
   "outputs": [
    {
     "name": "stdout",
     "output_type": "stream",
     "text": [
      "Probability of Sanjay's income being less than $80,000: 4.82%\n"
     ]
    }
   ],
   "source": [
    "from scipy import stats \n",
    "\n",
    "# Caluclate the z-score of 80,000\n",
    "z_score = (80000 - mean) / std\n",
    "\n",
    "# Calculate the cumulative probability under the z-score\n",
    "prob_less_than_80k = stats.norm.cdf(z_score)\n",
    "\n",
    "print \"Probability of Sanjay's income being less than $80,000: %.2f%%\" % (prob_less_than_80k * 100)"
   ]
  },
  {
   "cell_type": "markdown",
   "metadata": {
    "collapsed": true
   },
   "source": [
    "So we can see here that the probability of Sanjay's income for the first year being less than `$`80K is under 5%.  "
   ]
  },
  {
   "cell_type": "code",
   "execution_count": null,
   "metadata": {
    "collapsed": true
   },
   "outputs": [],
   "source": []
  }
 ],
 "metadata": {
  "kernelspec": {
   "display_name": "Python 2",
   "language": "python",
   "name": "python2"
  },
  "language_info": {
   "codemirror_mode": {
    "name": "ipython",
    "version": 2
   },
   "file_extension": ".py",
   "mimetype": "text/x-python",
   "name": "python",
   "nbconvert_exporter": "python",
   "pygments_lexer": "ipython2",
   "version": "2.7.13"
  }
 },
 "nbformat": 4,
 "nbformat_minor": 2
}
